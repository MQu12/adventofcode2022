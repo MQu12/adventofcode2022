{
 "cells": [
  {
   "cell_type": "code",
   "execution_count": 54,
   "metadata": {},
   "outputs": [],
   "source": [
    "import pandas as pd"
   ]
  },
  {
   "cell_type": "code",
   "execution_count": 55,
   "metadata": {},
   "outputs": [],
   "source": [
    "score_per_play = {'X': 1, 'Y': 2, 'Z': 3}\n",
    "result_matrix = pd.DataFrame(data={'names':['X','Y','Z'],'A':[3,6,0], 'B':[0,3,6], 'C':[6,0,3]}).set_index('names')"
   ]
  },
  {
   "cell_type": "code",
   "execution_count": 56,
   "metadata": {},
   "outputs": [],
   "source": [
    "def get_score(row):\n",
    "    return result_matrix[row[0]][row[1]] + score_per_play[row[1]]"
   ]
  },
  {
   "cell_type": "code",
   "execution_count": 57,
   "metadata": {},
   "outputs": [
    {
     "data": {
      "text/plain": [
       "12794"
      ]
     },
     "execution_count": 57,
     "metadata": {},
     "output_type": "execute_result"
    }
   ],
   "source": [
    "pd.read_csv(\"data/input2.txt\",delimiter=\" \",header=None).apply(get_score,axis=1).sum()"
   ]
  },
  {
   "cell_type": "code",
   "execution_count": 58,
   "metadata": {},
   "outputs": [
    {
     "data": {
      "text/plain": [
       "14979"
      ]
     },
     "execution_count": 58,
     "metadata": {},
     "output_type": "execute_result"
    }
   ],
   "source": [
    "score_per_play = {'X': 0, 'Y': 3, 'Z': 6}\n",
    "result_matrix = pd.DataFrame(data={'names':['X','Y','Z'],'A':[3,1,2], 'B':[1,2,3], 'C':[2,3,1]}).set_index('names')\n",
    "pd.read_csv(\"data/input2.txt\",delimiter=\" \",header=None).apply(get_score,axis=1).sum()"
   ]
  }
 ],
 "metadata": {
  "kernelspec": {
   "display_name": "Python 3.8.12 ('base')",
   "language": "python",
   "name": "python3"
  },
  "language_info": {
   "codemirror_mode": {
    "name": "ipython",
    "version": 3
   },
   "file_extension": ".py",
   "mimetype": "text/x-python",
   "name": "python",
   "nbconvert_exporter": "python",
   "pygments_lexer": "ipython3",
   "version": "3.8.12"
  },
  "orig_nbformat": 4,
  "vscode": {
   "interpreter": {
    "hash": "cc1d06cb430c8eea7d7831b040307f64808e198d0479e100739eb439bcd58e28"
   }
  }
 },
 "nbformat": 4,
 "nbformat_minor": 2
}
