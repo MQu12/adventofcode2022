{
 "cells": [
  {
   "cell_type": "code",
   "execution_count": 31,
   "metadata": {},
   "outputs": [],
   "source": [
    "import pandas as pd\n",
    "import string\n",
    "import numpy as np"
   ]
  },
  {
   "cell_type": "code",
   "execution_count": 25,
   "metadata": {},
   "outputs": [],
   "source": [
    "def compute_shit(row):\n",
    "    items_per_hold = int(len(row[0])/2)\n",
    "    item = set([*row[0][:items_per_hold]]).intersection(set([*row[0][items_per_hold:]])).pop()\n",
    "    lower_item = item.lower()\n",
    "    priority = string.ascii_lowercase.index(lower_item) + 1\n",
    "    priority += 0 if lower_item==item else 26\n",
    "    return priority\n",
    "    "
   ]
  },
  {
   "cell_type": "code",
   "execution_count": 28,
   "metadata": {},
   "outputs": [
    {
     "data": {
      "text/plain": [
       "7746"
      ]
     },
     "execution_count": 28,
     "metadata": {},
     "output_type": "execute_result"
    }
   ],
   "source": [
    "pd.read_csv(\"data/input3.txt\",header=None).apply(compute_shit,axis=1).sum()"
   ]
  },
  {
   "cell_type": "code",
   "execution_count": 41,
   "metadata": {},
   "outputs": [],
   "source": [
    "def compute_shit_2(row):\n",
    "    item = (set([*row[0]]) & set([*row[1]]) & set([*row[2]])).pop()\n",
    "    lower_item = item.lower()\n",
    "    priority = string.ascii_lowercase.index(lower_item) + 1\n",
    "    priority += 0 if lower_item==item else 26\n",
    "    return priority"
   ]
  },
  {
   "cell_type": "code",
   "execution_count": 43,
   "metadata": {},
   "outputs": [
    {
     "data": {
      "text/plain": [
       "2604"
      ]
     },
     "execution_count": 43,
     "metadata": {},
     "output_type": "execute_result"
    }
   ],
   "source": [
    "pd.DataFrame(np.array(pd.read_csv(\"data/input3.txt\",header=None)[0]).reshape(100,3)).apply(compute_shit_2,axis=1).sum()"
   ]
  }
 ],
 "metadata": {
  "kernelspec": {
   "display_name": "Python 3.8.12 ('base')",
   "language": "python",
   "name": "python3"
  },
  "language_info": {
   "codemirror_mode": {
    "name": "ipython",
    "version": 3
   },
   "file_extension": ".py",
   "mimetype": "text/x-python",
   "name": "python",
   "nbconvert_exporter": "python",
   "pygments_lexer": "ipython3",
   "version": "3.8.12"
  },
  "orig_nbformat": 4,
  "vscode": {
   "interpreter": {
    "hash": "cc1d06cb430c8eea7d7831b040307f64808e198d0479e100739eb439bcd58e28"
   }
  }
 },
 "nbformat": 4,
 "nbformat_minor": 2
}
