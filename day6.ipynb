{
 "cells": [
  {
   "cell_type": "code",
   "execution_count": 1,
   "metadata": {},
   "outputs": [],
   "source": [
    "with open(\"data/input6.txt\") as f:\n",
    "    input = f.read()"
   ]
  },
  {
   "cell_type": "code",
   "execution_count": 14,
   "metadata": {},
   "outputs": [
    {
     "data": {
      "text/plain": [
       "3"
      ]
     },
     "execution_count": 14,
     "metadata": {},
     "output_type": "execute_result"
    }
   ],
   "source": [
    "len(set([*input[0:4]]))"
   ]
  },
  {
   "cell_type": "code",
   "execution_count": 7,
   "metadata": {},
   "outputs": [],
   "source": [
    "def find_start(packet, length=4):\n",
    "    pos=0\n",
    "    while pos<len(packet):\n",
    "        substr = packet[pos:pos+length]\n",
    "        charset = set([*substr])\n",
    "        if len(charset) == length:\n",
    "            return pos+length\n",
    "        pos+=1\n",
    "    return -1"
   ]
  },
  {
   "cell_type": "code",
   "execution_count": 8,
   "metadata": {},
   "outputs": [
    {
     "data": {
      "text/plain": [
       "19"
      ]
     },
     "execution_count": 8,
     "metadata": {},
     "output_type": "execute_result"
    }
   ],
   "source": [
    "find_start(\"mjqjpqmgbljsphdztnvjfqwrcgsmlb\",14)"
   ]
  }
 ],
 "metadata": {
  "kernelspec": {
   "display_name": "grandoats-cardscrapeer",
   "language": "python",
   "name": "python3"
  },
  "language_info": {
   "codemirror_mode": {
    "name": "ipython",
    "version": 3
   },
   "file_extension": ".py",
   "mimetype": "text/x-python",
   "name": "python",
   "nbconvert_exporter": "python",
   "pygments_lexer": "ipython3",
   "version": "3.9.12"
  },
  "orig_nbformat": 4,
  "vscode": {
   "interpreter": {
    "hash": "69491bc903a7c19707635918d3a8f86a856dfdd0c4525aaa31858a8cd0e39445"
   }
  }
 },
 "nbformat": 4,
 "nbformat_minor": 2
}
