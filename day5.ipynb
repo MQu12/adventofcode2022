{
 "cells": [
  {
   "cell_type": "code",
   "execution_count": 47,
   "metadata": {},
   "outputs": [],
   "source": [
    "import pandas as pd\n",
    "import regex as re"
   ]
  },
  {
   "cell_type": "code",
   "execution_count": 115,
   "metadata": {},
   "outputs": [],
   "source": [
    "def move(box_dict, count, start, finish):\n",
    "    for i in range(count):\n",
    "        moved_box = box_dict[start].pop()\n",
    "        box_dict[finish].append(moved_box)\n",
    "    return box_dict"
   ]
  },
  {
   "cell_type": "code",
   "execution_count": 124,
   "metadata": {},
   "outputs": [],
   "source": [
    "def move(box_dict, count, start, finish):\n",
    "    move_list = box_dict[start][-count:]\n",
    "    box_dict[start] = box_dict[start][:-count]\n",
    "    box_dict[finish] += move_list\n",
    "    return box_dict"
   ]
  },
  {
   "cell_type": "code",
   "execution_count": 22,
   "metadata": {},
   "outputs": [],
   "source": [
    "delimiter = \"   \""
   ]
  },
  {
   "cell_type": "code",
   "execution_count": 6,
   "metadata": {},
   "outputs": [],
   "source": [
    "with open(\"data/input5.txt\") as f:\n",
    "    lines = f.read().splitlines()\n"
   ]
  },
  {
   "cell_type": "code",
   "execution_count": 29,
   "metadata": {},
   "outputs": [],
   "source": [
    "boxes_end_index = lines.index(\"\")\n",
    "boxes = lines[:boxes_end_index]\n",
    "boxes.reverse()\n",
    "index_cols = [ int(i) for i in boxes[0].split(delimiter)]\n",
    "boxes = boxes[1:]"
   ]
  },
  {
   "cell_type": "code",
   "execution_count": 92,
   "metadata": {},
   "outputs": [],
   "source": [
    "#[s.split() lines[boxes_end_index+1:]]\n",
    "instructions = []\n",
    "for s in lines[boxes_end_index+1:]:\n",
    "    count = int(s.split(\"move\")[1].split(\"from\")[0])\n",
    "    start = int(s.split(\"from\")[1].split(\"to\")[0])\n",
    "    finish = int(s.split(\"to\")[1])\n",
    "    instructions.append({\"count\": count, \"start\": start, \"finish\": finish})"
   ]
  },
  {
   "cell_type": "code",
   "execution_count": 125,
   "metadata": {},
   "outputs": [
    {
     "data": {
      "text/plain": [
       "{1: ['M', 'J', 'C', 'B', 'F', 'R', 'L', 'H'],\n",
       " 2: ['Z', 'C', 'D'],\n",
       " 3: ['H', 'J', 'F', 'C', 'N', 'G', 'W'],\n",
       " 4: ['P', 'J', 'D', 'M', 'T', 'S', 'B'],\n",
       " 5: ['N', 'C', 'D', 'R', 'J'],\n",
       " 6: ['W', 'L', 'D', 'Q', 'P', 'J', 'G', 'Z'],\n",
       " 7: ['P', 'Z', 'T', 'F', 'R', 'H'],\n",
       " 8: ['L', 'V', 'M', 'G'],\n",
       " 9: ['C', 'B', 'G', 'P', 'F', 'Q', 'R', 'J']}"
      ]
     },
     "execution_count": 125,
     "metadata": {},
     "output_type": "execute_result"
    }
   ],
   "source": [
    "space = 4\n",
    "size = 3\n",
    "box_dict = {i: [] for i in index_cols}\n",
    "\n",
    "for row in boxes:\n",
    "    for i in range(len(box_dict)):\n",
    "        loc = i*space\n",
    "        item = row[loc:loc+size]\n",
    "        try:\n",
    "            item = item.split(\"[\")[1].split(\"]\")[0]\n",
    "            box_dict[i+1].append(item)\n",
    "        except:\n",
    "            continue\n",
    "box_dict"
   ]
  },
  {
   "cell_type": "code",
   "execution_count": 126,
   "metadata": {},
   "outputs": [
    {
     "data": {
      "text/plain": [
       "{1: ['D', 'W', 'P', 'R'],\n",
       " 2: ['L', 'N', 'B', 'B', 'M'],\n",
       " 3: ['R', 'P', 'G', 'H', 'W', 'H'],\n",
       " 4: ['J', 'J', 'F', 'L', 'Q', 'F'],\n",
       " 5: ['Z',\n",
       "  'T',\n",
       "  'J',\n",
       "  'Z',\n",
       "  'J',\n",
       "  'B',\n",
       "  'J',\n",
       "  'G',\n",
       "  'Q',\n",
       "  'R',\n",
       "  'L',\n",
       "  'C',\n",
       "  'R',\n",
       "  'T',\n",
       "  'S',\n",
       "  'M',\n",
       "  'C',\n",
       "  'P',\n",
       "  'J'],\n",
       " 6: ['N'],\n",
       " 7: ['D', 'G', 'F', 'H', 'M', 'V'],\n",
       " 8: ['Z', 'D', 'C', 'C', 'F'],\n",
       " 9: ['D', 'C', 'G', 'P']}"
      ]
     },
     "execution_count": 126,
     "metadata": {},
     "output_type": "execute_result"
    }
   ],
   "source": [
    "for i, inst in enumerate(instructions):\n",
    "    box_dict = move(box_dict, **inst)\n",
    "box_dict"
   ]
  },
  {
   "cell_type": "code",
   "execution_count": 127,
   "metadata": {},
   "outputs": [
    {
     "data": {
      "text/plain": [
       "'RMHFJNVFP'"
      ]
     },
     "execution_count": 127,
     "metadata": {},
     "output_type": "execute_result"
    }
   ],
   "source": [
    "ans = \"\"\n",
    "for _, l in box_dict.items():\n",
    "    ans+=l[-1]\n",
    "ans"
   ]
  },
  {
   "cell_type": "code",
   "execution_count": null,
   "metadata": {},
   "outputs": [],
   "source": []
  }
 ],
 "metadata": {
  "kernelspec": {
   "display_name": "Python 3.9.12 ('grandoats-cardscrapeer')",
   "language": "python",
   "name": "python3"
  },
  "language_info": {
   "codemirror_mode": {
    "name": "ipython",
    "version": 3
   },
   "file_extension": ".py",
   "mimetype": "text/x-python",
   "name": "python",
   "nbconvert_exporter": "python",
   "pygments_lexer": "ipython3",
   "version": "3.9.12"
  },
  "orig_nbformat": 4,
  "vscode": {
   "interpreter": {
    "hash": "69491bc903a7c19707635918d3a8f86a856dfdd0c4525aaa31858a8cd0e39445"
   }
  }
 },
 "nbformat": 4,
 "nbformat_minor": 2
}
