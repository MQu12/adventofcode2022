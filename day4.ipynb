{
 "cells": [
  {
   "cell_type": "code",
   "execution_count": 3,
   "metadata": {},
   "outputs": [],
   "source": [
    "import numpy as np"
   ]
  },
  {
   "cell_type": "code",
   "execution_count": 4,
   "metadata": {},
   "outputs": [],
   "source": [
    "with open(\"data/input4.txt\") as f:\n",
    "    text = f.read()"
   ]
  },
  {
   "cell_type": "code",
   "execution_count": 5,
   "metadata": {},
   "outputs": [],
   "source": [
    "def make_set(pair):\n",
    "    return set(np.arange(int(pair.split(\"-\")[0]),int(pair.split(\"-\")[1])+1))"
   ]
  },
  {
   "cell_type": "code",
   "execution_count": 8,
   "metadata": {},
   "outputs": [],
   "source": [
    "full_overlap = 0\n",
    "overlap = 0\n",
    "for line in text.split(\"\\n\"):\n",
    "    if line == \"\":\n",
    "        continue\n",
    "    try:\n",
    "        pair1, pair2 = line.split(\",\")\n",
    "    except:\n",
    "        print(line)\n",
    "    set1 = make_set(pair1)\n",
    "    set2 = make_set(pair2)\n",
    "\n",
    "    full_overlap+=int(set1 & set2 == set1 or set1 & set2 == set2)\n",
    "    overlap += int(len(set1 & set2)>0)    "
   ]
  }
 ],
 "metadata": {
  "kernelspec": {
   "display_name": "Python 3.8.12 ('base')",
   "language": "python",
   "name": "python3"
  },
  "language_info": {
   "codemirror_mode": {
    "name": "ipython",
    "version": 3
   },
   "file_extension": ".py",
   "mimetype": "text/x-python",
   "name": "python",
   "nbconvert_exporter": "python",
   "pygments_lexer": "ipython3",
   "version": "3.8.12"
  },
  "orig_nbformat": 4,
  "vscode": {
   "interpreter": {
    "hash": "cc1d06cb430c8eea7d7831b040307f64808e198d0479e100739eb439bcd58e28"
   }
  }
 },
 "nbformat": 4,
 "nbformat_minor": 2
}
